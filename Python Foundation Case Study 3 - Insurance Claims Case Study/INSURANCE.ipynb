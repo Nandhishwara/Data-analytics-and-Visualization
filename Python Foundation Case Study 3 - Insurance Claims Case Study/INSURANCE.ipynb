{
 "cells": [
  {
   "cell_type": "code",
   "execution_count": 1,
   "id": "aeee8f1b",
   "metadata": {},
   "outputs": [],
   "source": [
    "import pandas as pd\n",
    "import numpy as np\n",
    "import matplotlib.pyplot as plt\n",
    "import seaborn as sns\n",
    "import scipy.stats as stats"
   ]
  },
  {
   "cell_type": "markdown",
   "id": "f9d342d1",
   "metadata": {},
   "source": [
    "## Q1. Import claims_data.csv and cust_data.csv which is provided to you and combine the two datasets appropriately to create a 360-degree view of the data."
   ]
  },
  {
   "cell_type": "code",
   "execution_count": 2,
   "id": "29a30981",
   "metadata": {},
   "outputs": [],
   "source": [
    "data = r\"C:\\Users\\Lenovo\\Documents\\Data\""
   ]
  },
  {
   "cell_type": "code",
   "execution_count": 3,
   "id": "7963d788",
   "metadata": {},
   "outputs": [],
   "source": [
    "claims = pd.read_csv(data + '\\\\claims.csv')\n",
    "cust_demo = pd.read_csv(data + '\\\\cust_demographics.csv')"
   ]
  },
  {
   "cell_type": "code",
   "execution_count": 4,
   "id": "4682a9a5",
   "metadata": {},
   "outputs": [
    {
     "data": {
      "text/html": [
       "<div>\n",
       "<style scoped>\n",
       "    .dataframe tbody tr th:only-of-type {\n",
       "        vertical-align: middle;\n",
       "    }\n",
       "\n",
       "    .dataframe tbody tr th {\n",
       "        vertical-align: top;\n",
       "    }\n",
       "\n",
       "    .dataframe thead th {\n",
       "        text-align: right;\n",
       "    }\n",
       "</style>\n",
       "<table border=\"1\" class=\"dataframe\">\n",
       "  <thead>\n",
       "    <tr style=\"text-align: right;\">\n",
       "      <th></th>\n",
       "      <th>claim_id</th>\n",
       "      <th>customer_id</th>\n",
       "      <th>incident_cause</th>\n",
       "      <th>claim_date</th>\n",
       "      <th>claim_area</th>\n",
       "      <th>police_report</th>\n",
       "      <th>claim_type</th>\n",
       "      <th>claim_amount</th>\n",
       "      <th>total_policy_claims</th>\n",
       "      <th>fraudulent</th>\n",
       "    </tr>\n",
       "  </thead>\n",
       "  <tbody>\n",
       "    <tr>\n",
       "      <th>0</th>\n",
       "      <td>54004764</td>\n",
       "      <td>21868593</td>\n",
       "      <td>Driver error</td>\n",
       "      <td>11/27/2017</td>\n",
       "      <td>Auto</td>\n",
       "      <td>No</td>\n",
       "      <td>Material only</td>\n",
       "      <td>$2980</td>\n",
       "      <td>1.0</td>\n",
       "      <td>No</td>\n",
       "    </tr>\n",
       "    <tr>\n",
       "      <th>1</th>\n",
       "      <td>33985796</td>\n",
       "      <td>75740424</td>\n",
       "      <td>Crime</td>\n",
       "      <td>10/03/2018</td>\n",
       "      <td>Home</td>\n",
       "      <td>Unknown</td>\n",
       "      <td>Material only</td>\n",
       "      <td>$2980</td>\n",
       "      <td>3.0</td>\n",
       "      <td>No</td>\n",
       "    </tr>\n",
       "  </tbody>\n",
       "</table>\n",
       "</div>"
      ],
      "text/plain": [
       "   claim_id  customer_id incident_cause  claim_date claim_area police_report  \\\n",
       "0  54004764     21868593   Driver error  11/27/2017       Auto            No   \n",
       "1  33985796     75740424          Crime  10/03/2018       Home       Unknown   \n",
       "\n",
       "      claim_type claim_amount  total_policy_claims fraudulent  \n",
       "0  Material only        $2980                  1.0         No  \n",
       "1  Material only        $2980                  3.0         No  "
      ]
     },
     "execution_count": 4,
     "metadata": {},
     "output_type": "execute_result"
    }
   ],
   "source": [
    "claims.head(2)"
   ]
  },
  {
   "cell_type": "code",
   "execution_count": 5,
   "id": "1879444c",
   "metadata": {},
   "outputs": [
    {
     "data": {
      "text/html": [
       "<div>\n",
       "<style scoped>\n",
       "    .dataframe tbody tr th:only-of-type {\n",
       "        vertical-align: middle;\n",
       "    }\n",
       "\n",
       "    .dataframe tbody tr th {\n",
       "        vertical-align: top;\n",
       "    }\n",
       "\n",
       "    .dataframe thead th {\n",
       "        text-align: right;\n",
       "    }\n",
       "</style>\n",
       "<table border=\"1\" class=\"dataframe\">\n",
       "  <thead>\n",
       "    <tr style=\"text-align: right;\">\n",
       "      <th></th>\n",
       "      <th>CUST_ID</th>\n",
       "      <th>gender</th>\n",
       "      <th>DateOfBirth</th>\n",
       "      <th>State</th>\n",
       "      <th>Contact</th>\n",
       "      <th>Segment</th>\n",
       "    </tr>\n",
       "  </thead>\n",
       "  <tbody>\n",
       "    <tr>\n",
       "      <th>0</th>\n",
       "      <td>21868593</td>\n",
       "      <td>Female</td>\n",
       "      <td>12-Jan-79</td>\n",
       "      <td>VT</td>\n",
       "      <td>789-916-8172</td>\n",
       "      <td>Platinum</td>\n",
       "    </tr>\n",
       "    <tr>\n",
       "      <th>1</th>\n",
       "      <td>75740424</td>\n",
       "      <td>Female</td>\n",
       "      <td>13-Jan-70</td>\n",
       "      <td>ME</td>\n",
       "      <td>265-543-1264</td>\n",
       "      <td>Silver</td>\n",
       "    </tr>\n",
       "  </tbody>\n",
       "</table>\n",
       "</div>"
      ],
      "text/plain": [
       "    CUST_ID  gender DateOfBirth State       Contact   Segment\n",
       "0  21868593  Female   12-Jan-79    VT  789-916-8172  Platinum\n",
       "1  75740424  Female   13-Jan-70    ME  265-543-1264    Silver"
      ]
     },
     "execution_count": 5,
     "metadata": {},
     "output_type": "execute_result"
    }
   ],
   "source": [
    "cust_demo.head(2)"
   ]
  },
  {
   "cell_type": "code",
   "execution_count": 6,
   "id": "945386a6",
   "metadata": {},
   "outputs": [
    {
     "data": {
      "text/html": [
       "<div>\n",
       "<style scoped>\n",
       "    .dataframe tbody tr th:only-of-type {\n",
       "        vertical-align: middle;\n",
       "    }\n",
       "\n",
       "    .dataframe tbody tr th {\n",
       "        vertical-align: top;\n",
       "    }\n",
       "\n",
       "    .dataframe thead th {\n",
       "        text-align: right;\n",
       "    }\n",
       "</style>\n",
       "<table border=\"1\" class=\"dataframe\">\n",
       "  <thead>\n",
       "    <tr style=\"text-align: right;\">\n",
       "      <th></th>\n",
       "      <th>CUST_ID</th>\n",
       "      <th>gender</th>\n",
       "      <th>DateOfBirth</th>\n",
       "      <th>State</th>\n",
       "      <th>Contact</th>\n",
       "      <th>Segment</th>\n",
       "      <th>claim_id</th>\n",
       "      <th>customer_id</th>\n",
       "      <th>incident_cause</th>\n",
       "      <th>claim_date</th>\n",
       "      <th>claim_area</th>\n",
       "      <th>police_report</th>\n",
       "      <th>claim_type</th>\n",
       "      <th>claim_amount</th>\n",
       "      <th>total_policy_claims</th>\n",
       "      <th>fraudulent</th>\n",
       "    </tr>\n",
       "  </thead>\n",
       "  <tbody>\n",
       "    <tr>\n",
       "      <th>0</th>\n",
       "      <td>21868593</td>\n",
       "      <td>Female</td>\n",
       "      <td>12-Jan-79</td>\n",
       "      <td>VT</td>\n",
       "      <td>789-916-8172</td>\n",
       "      <td>Platinum</td>\n",
       "      <td>54004764.0</td>\n",
       "      <td>21868593.0</td>\n",
       "      <td>Driver error</td>\n",
       "      <td>11/27/2017</td>\n",
       "      <td>Auto</td>\n",
       "      <td>No</td>\n",
       "      <td>Material only</td>\n",
       "      <td>$2980</td>\n",
       "      <td>1.0</td>\n",
       "      <td>No</td>\n",
       "    </tr>\n",
       "    <tr>\n",
       "      <th>1</th>\n",
       "      <td>75740424</td>\n",
       "      <td>Female</td>\n",
       "      <td>13-Jan-70</td>\n",
       "      <td>ME</td>\n",
       "      <td>265-543-1264</td>\n",
       "      <td>Silver</td>\n",
       "      <td>33985796.0</td>\n",
       "      <td>75740424.0</td>\n",
       "      <td>Crime</td>\n",
       "      <td>10/03/2018</td>\n",
       "      <td>Home</td>\n",
       "      <td>Unknown</td>\n",
       "      <td>Material only</td>\n",
       "      <td>$2980</td>\n",
       "      <td>3.0</td>\n",
       "      <td>No</td>\n",
       "    </tr>\n",
       "  </tbody>\n",
       "</table>\n",
       "</div>"
      ],
      "text/plain": [
       "    CUST_ID  gender DateOfBirth State       Contact   Segment    claim_id  \\\n",
       "0  21868593  Female   12-Jan-79    VT  789-916-8172  Platinum  54004764.0   \n",
       "1  75740424  Female   13-Jan-70    ME  265-543-1264    Silver  33985796.0   \n",
       "\n",
       "   customer_id incident_cause  claim_date claim_area police_report  \\\n",
       "0   21868593.0   Driver error  11/27/2017       Auto            No   \n",
       "1   75740424.0          Crime  10/03/2018       Home       Unknown   \n",
       "\n",
       "      claim_type claim_amount  total_policy_claims fraudulent  \n",
       "0  Material only        $2980                  1.0         No  \n",
       "1  Material only        $2980                  3.0         No  "
      ]
     },
     "execution_count": 6,
     "metadata": {},
     "output_type": "execute_result"
    }
   ],
   "source": [
    "cust_claims = pd.merge(cust_demo , claims , left_on='CUST_ID' , right_on='customer_id' ,how ='left')\n",
    "cust_claims.head(2)"
   ]
  },
  {
   "cell_type": "markdown",
   "id": "698431e1",
   "metadata": {},
   "source": [
    "## Q2. Perform a data audit for the datatypes and find out if there are any mismatch within the current datatypes of the columns and their business significance."
   ]
  },
  {
   "cell_type": "code",
   "execution_count": 7,
   "id": "fef60cde",
   "metadata": {},
   "outputs": [
    {
     "data": {
      "text/plain": [
       "CUST_ID                  int64\n",
       "gender                  object\n",
       "DateOfBirth             object\n",
       "State                   object\n",
       "Contact                 object\n",
       "Segment                 object\n",
       "claim_id               float64\n",
       "customer_id            float64\n",
       "incident_cause          object\n",
       "claim_date              object\n",
       "claim_area              object\n",
       "police_report           object\n",
       "claim_type              object\n",
       "claim_amount            object\n",
       "total_policy_claims    float64\n",
       "fraudulent              object\n",
       "dtype: object"
      ]
     },
     "execution_count": 7,
     "metadata": {},
     "output_type": "execute_result"
    }
   ],
   "source": [
    "cust_claims.dtypes"
   ]
  },
  {
   "cell_type": "code",
   "execution_count": 8,
   "id": "dc9ef1c5",
   "metadata": {},
   "outputs": [],
   "source": [
    "cust_claims['claim_date'] = pd.to_datetime(cust_claims['claim_date'] )\n",
    "cust_claims['DateOfBirth'] = pd.to_datetime(cust_claims['DateOfBirth'])\n",
    "cust_claims['DateOfBirth'] = np.where(cust_claims['DateOfBirth'].dt.year >2020 , \n",
    "cust_claims['DateOfBirth'] - pd.DateOffset(years= 100), cust_claims['DateOfBirth'] )"
   ]
  },
  {
   "cell_type": "code",
   "execution_count": 9,
   "id": "a31efaab",
   "metadata": {},
   "outputs": [
    {
     "data": {
      "text/html": [
       "<div>\n",
       "<style scoped>\n",
       "    .dataframe tbody tr th:only-of-type {\n",
       "        vertical-align: middle;\n",
       "    }\n",
       "\n",
       "    .dataframe tbody tr th {\n",
       "        vertical-align: top;\n",
       "    }\n",
       "\n",
       "    .dataframe thead th {\n",
       "        text-align: right;\n",
       "    }\n",
       "</style>\n",
       "<table border=\"1\" class=\"dataframe\">\n",
       "  <thead>\n",
       "    <tr style=\"text-align: right;\">\n",
       "      <th></th>\n",
       "      <th>CUST_ID</th>\n",
       "      <th>gender</th>\n",
       "      <th>DateOfBirth</th>\n",
       "      <th>State</th>\n",
       "      <th>Contact</th>\n",
       "      <th>Segment</th>\n",
       "      <th>claim_id</th>\n",
       "      <th>customer_id</th>\n",
       "      <th>incident_cause</th>\n",
       "      <th>claim_date</th>\n",
       "      <th>claim_area</th>\n",
       "      <th>police_report</th>\n",
       "      <th>claim_type</th>\n",
       "      <th>claim_amount</th>\n",
       "      <th>total_policy_claims</th>\n",
       "      <th>fraudulent</th>\n",
       "    </tr>\n",
       "  </thead>\n",
       "  <tbody>\n",
       "    <tr>\n",
       "      <th>0</th>\n",
       "      <td>21868593</td>\n",
       "      <td>Female</td>\n",
       "      <td>1979-01-12</td>\n",
       "      <td>VT</td>\n",
       "      <td>789-916-8172</td>\n",
       "      <td>Platinum</td>\n",
       "      <td>54004764.0</td>\n",
       "      <td>21868593.0</td>\n",
       "      <td>Driver error</td>\n",
       "      <td>2017-11-27</td>\n",
       "      <td>Auto</td>\n",
       "      <td>No</td>\n",
       "      <td>Material only</td>\n",
       "      <td>$2980</td>\n",
       "      <td>1.0</td>\n",
       "      <td>No</td>\n",
       "    </tr>\n",
       "    <tr>\n",
       "      <th>1</th>\n",
       "      <td>75740424</td>\n",
       "      <td>Female</td>\n",
       "      <td>1970-01-13</td>\n",
       "      <td>ME</td>\n",
       "      <td>265-543-1264</td>\n",
       "      <td>Silver</td>\n",
       "      <td>33985796.0</td>\n",
       "      <td>75740424.0</td>\n",
       "      <td>Crime</td>\n",
       "      <td>2018-10-03</td>\n",
       "      <td>Home</td>\n",
       "      <td>Unknown</td>\n",
       "      <td>Material only</td>\n",
       "      <td>$2980</td>\n",
       "      <td>3.0</td>\n",
       "      <td>No</td>\n",
       "    </tr>\n",
       "  </tbody>\n",
       "</table>\n",
       "</div>"
      ],
      "text/plain": [
       "    CUST_ID  gender DateOfBirth State       Contact   Segment    claim_id  \\\n",
       "0  21868593  Female  1979-01-12    VT  789-916-8172  Platinum  54004764.0   \n",
       "1  75740424  Female  1970-01-13    ME  265-543-1264    Silver  33985796.0   \n",
       "\n",
       "   customer_id incident_cause claim_date claim_area police_report  \\\n",
       "0   21868593.0   Driver error 2017-11-27       Auto            No   \n",
       "1   75740424.0          Crime 2018-10-03       Home       Unknown   \n",
       "\n",
       "      claim_type claim_amount  total_policy_claims fraudulent  \n",
       "0  Material only        $2980                  1.0         No  \n",
       "1  Material only        $2980                  3.0         No  "
      ]
     },
     "execution_count": 9,
     "metadata": {},
     "output_type": "execute_result"
    }
   ],
   "source": [
    "cust_claims.head(2)"
   ]
  },
  {
   "cell_type": "markdown",
   "id": "f015f11d",
   "metadata": {},
   "source": [
    "## Q3. Convert the column claim_amount to numeric. Use the appropriate modules/attributes to remove the sign."
   ]
  },
  {
   "cell_type": "code",
   "execution_count": 10,
   "id": "2e5abafa",
   "metadata": {},
   "outputs": [
    {
     "name": "stderr",
     "output_type": "stream",
     "text": [
      "C:\\Users\\Lenovo\\AppData\\Local\\Temp\\ipykernel_304\\781069563.py:1: FutureWarning: The default value of regex will change from True to False in a future version. In addition, single character regular expressions will *not* be treated as literal strings when regex=True.\n",
      "  cust_claims.claim_amount = cust_claims.claim_amount.str.replace('$', '').astype('float')\n"
     ]
    }
   ],
   "source": [
    "cust_claims.claim_amount = cust_claims.claim_amount.str.replace('$', '').astype('float')"
   ]
  },
  {
   "cell_type": "code",
   "execution_count": 11,
   "id": "3f8a7122",
   "metadata": {},
   "outputs": [
    {
     "data": {
      "text/html": [
       "<div>\n",
       "<style scoped>\n",
       "    .dataframe tbody tr th:only-of-type {\n",
       "        vertical-align: middle;\n",
       "    }\n",
       "\n",
       "    .dataframe tbody tr th {\n",
       "        vertical-align: top;\n",
       "    }\n",
       "\n",
       "    .dataframe thead th {\n",
       "        text-align: right;\n",
       "    }\n",
       "</style>\n",
       "<table border=\"1\" class=\"dataframe\">\n",
       "  <thead>\n",
       "    <tr style=\"text-align: right;\">\n",
       "      <th></th>\n",
       "      <th>CUST_ID</th>\n",
       "      <th>gender</th>\n",
       "      <th>DateOfBirth</th>\n",
       "      <th>State</th>\n",
       "      <th>Contact</th>\n",
       "      <th>Segment</th>\n",
       "      <th>claim_id</th>\n",
       "      <th>customer_id</th>\n",
       "      <th>incident_cause</th>\n",
       "      <th>claim_date</th>\n",
       "      <th>claim_area</th>\n",
       "      <th>police_report</th>\n",
       "      <th>claim_type</th>\n",
       "      <th>claim_amount</th>\n",
       "      <th>total_policy_claims</th>\n",
       "      <th>fraudulent</th>\n",
       "    </tr>\n",
       "  </thead>\n",
       "  <tbody>\n",
       "    <tr>\n",
       "      <th>0</th>\n",
       "      <td>21868593</td>\n",
       "      <td>Female</td>\n",
       "      <td>1979-01-12</td>\n",
       "      <td>VT</td>\n",
       "      <td>789-916-8172</td>\n",
       "      <td>Platinum</td>\n",
       "      <td>54004764.0</td>\n",
       "      <td>21868593.0</td>\n",
       "      <td>Driver error</td>\n",
       "      <td>2017-11-27</td>\n",
       "      <td>Auto</td>\n",
       "      <td>No</td>\n",
       "      <td>Material only</td>\n",
       "      <td>2980.0</td>\n",
       "      <td>1.0</td>\n",
       "      <td>No</td>\n",
       "    </tr>\n",
       "    <tr>\n",
       "      <th>1</th>\n",
       "      <td>75740424</td>\n",
       "      <td>Female</td>\n",
       "      <td>1970-01-13</td>\n",
       "      <td>ME</td>\n",
       "      <td>265-543-1264</td>\n",
       "      <td>Silver</td>\n",
       "      <td>33985796.0</td>\n",
       "      <td>75740424.0</td>\n",
       "      <td>Crime</td>\n",
       "      <td>2018-10-03</td>\n",
       "      <td>Home</td>\n",
       "      <td>Unknown</td>\n",
       "      <td>Material only</td>\n",
       "      <td>2980.0</td>\n",
       "      <td>3.0</td>\n",
       "      <td>No</td>\n",
       "    </tr>\n",
       "  </tbody>\n",
       "</table>\n",
       "</div>"
      ],
      "text/plain": [
       "    CUST_ID  gender DateOfBirth State       Contact   Segment    claim_id  \\\n",
       "0  21868593  Female  1979-01-12    VT  789-916-8172  Platinum  54004764.0   \n",
       "1  75740424  Female  1970-01-13    ME  265-543-1264    Silver  33985796.0   \n",
       "\n",
       "   customer_id incident_cause claim_date claim_area police_report  \\\n",
       "0   21868593.0   Driver error 2017-11-27       Auto            No   \n",
       "1   75740424.0          Crime 2018-10-03       Home       Unknown   \n",
       "\n",
       "      claim_type  claim_amount  total_policy_claims fraudulent  \n",
       "0  Material only        2980.0                  1.0         No  \n",
       "1  Material only        2980.0                  3.0         No  "
      ]
     },
     "execution_count": 11,
     "metadata": {},
     "output_type": "execute_result"
    }
   ],
   "source": [
    "cust_claims.head(2)"
   ]
  },
  {
   "cell_type": "markdown",
   "id": "802e1f6f",
   "metadata": {},
   "source": [
    "## Q4. Of all the injury claims, some of them have gone unreported with the police. Create an alert flag (1,0) for all such claims."
   ]
  },
  {
   "cell_type": "code",
   "execution_count": 12,
   "id": "56556f7f",
   "metadata": {},
   "outputs": [],
   "source": [
    "def alert_flag (x):\n",
    "    if x.police_report == 'No':\n",
    "        return '0'\n",
    "    elif x.police_report == 'Yes':\n",
    "        return '1'\n",
    "    else :\n",
    "        return 'NaN'"
   ]
  },
  {
   "cell_type": "code",
   "execution_count": 13,
   "id": "197396b2",
   "metadata": {},
   "outputs": [
    {
     "data": {
      "text/html": [
       "<div>\n",
       "<style scoped>\n",
       "    .dataframe tbody tr th:only-of-type {\n",
       "        vertical-align: middle;\n",
       "    }\n",
       "\n",
       "    .dataframe tbody tr th {\n",
       "        vertical-align: top;\n",
       "    }\n",
       "\n",
       "    .dataframe thead th {\n",
       "        text-align: right;\n",
       "    }\n",
       "</style>\n",
       "<table border=\"1\" class=\"dataframe\">\n",
       "  <thead>\n",
       "    <tr style=\"text-align: right;\">\n",
       "      <th></th>\n",
       "      <th>CUST_ID</th>\n",
       "      <th>gender</th>\n",
       "      <th>DateOfBirth</th>\n",
       "      <th>State</th>\n",
       "      <th>Contact</th>\n",
       "      <th>Segment</th>\n",
       "      <th>claim_id</th>\n",
       "      <th>customer_id</th>\n",
       "      <th>incident_cause</th>\n",
       "      <th>claim_date</th>\n",
       "      <th>claim_area</th>\n",
       "      <th>police_report</th>\n",
       "      <th>claim_type</th>\n",
       "      <th>claim_amount</th>\n",
       "      <th>total_policy_claims</th>\n",
       "      <th>fraudulent</th>\n",
       "      <th>alert_flag</th>\n",
       "    </tr>\n",
       "  </thead>\n",
       "  <tbody>\n",
       "    <tr>\n",
       "      <th>0</th>\n",
       "      <td>21868593</td>\n",
       "      <td>Female</td>\n",
       "      <td>1979-01-12</td>\n",
       "      <td>VT</td>\n",
       "      <td>789-916-8172</td>\n",
       "      <td>Platinum</td>\n",
       "      <td>54004764.0</td>\n",
       "      <td>21868593.0</td>\n",
       "      <td>Driver error</td>\n",
       "      <td>2017-11-27</td>\n",
       "      <td>Auto</td>\n",
       "      <td>No</td>\n",
       "      <td>Material only</td>\n",
       "      <td>2980.0</td>\n",
       "      <td>1.0</td>\n",
       "      <td>No</td>\n",
       "      <td>0</td>\n",
       "    </tr>\n",
       "    <tr>\n",
       "      <th>1</th>\n",
       "      <td>75740424</td>\n",
       "      <td>Female</td>\n",
       "      <td>1970-01-13</td>\n",
       "      <td>ME</td>\n",
       "      <td>265-543-1264</td>\n",
       "      <td>Silver</td>\n",
       "      <td>33985796.0</td>\n",
       "      <td>75740424.0</td>\n",
       "      <td>Crime</td>\n",
       "      <td>2018-10-03</td>\n",
       "      <td>Home</td>\n",
       "      <td>Unknown</td>\n",
       "      <td>Material only</td>\n",
       "      <td>2980.0</td>\n",
       "      <td>3.0</td>\n",
       "      <td>No</td>\n",
       "      <td>NaN</td>\n",
       "    </tr>\n",
       "  </tbody>\n",
       "</table>\n",
       "</div>"
      ],
      "text/plain": [
       "    CUST_ID  gender DateOfBirth State       Contact   Segment    claim_id  \\\n",
       "0  21868593  Female  1979-01-12    VT  789-916-8172  Platinum  54004764.0   \n",
       "1  75740424  Female  1970-01-13    ME  265-543-1264    Silver  33985796.0   \n",
       "\n",
       "   customer_id incident_cause claim_date claim_area police_report  \\\n",
       "0   21868593.0   Driver error 2017-11-27       Auto            No   \n",
       "1   75740424.0          Crime 2018-10-03       Home       Unknown   \n",
       "\n",
       "      claim_type  claim_amount  total_policy_claims fraudulent alert_flag  \n",
       "0  Material only        2980.0                  1.0         No          0  \n",
       "1  Material only        2980.0                  3.0         No        NaN  "
      ]
     },
     "execution_count": 13,
     "metadata": {},
     "output_type": "execute_result"
    }
   ],
   "source": [
    "cust_claims['alert_flag'] = cust_claims.apply(alert_flag , axis= 1)\n",
    "cust_claims.head(2)"
   ]
  },
  {
   "cell_type": "markdown",
   "id": "042f4ae6",
   "metadata": {},
   "source": [
    "## Q5. Retain the most recent observation and delete any duplicated records in the data based on the customer ID column."
   ]
  },
  {
   "cell_type": "code",
   "execution_count": 14,
   "id": "6a1d5a38",
   "metadata": {},
   "outputs": [
    {
     "data": {
      "text/html": [
       "<div>\n",
       "<style scoped>\n",
       "    .dataframe tbody tr th:only-of-type {\n",
       "        vertical-align: middle;\n",
       "    }\n",
       "\n",
       "    .dataframe tbody tr th {\n",
       "        vertical-align: top;\n",
       "    }\n",
       "\n",
       "    .dataframe thead th {\n",
       "        text-align: right;\n",
       "    }\n",
       "</style>\n",
       "<table border=\"1\" class=\"dataframe\">\n",
       "  <thead>\n",
       "    <tr style=\"text-align: right;\">\n",
       "      <th></th>\n",
       "      <th>CUST_ID</th>\n",
       "      <th>gender</th>\n",
       "      <th>DateOfBirth</th>\n",
       "      <th>State</th>\n",
       "      <th>Contact</th>\n",
       "      <th>Segment</th>\n",
       "      <th>claim_id</th>\n",
       "      <th>customer_id</th>\n",
       "      <th>incident_cause</th>\n",
       "      <th>claim_date</th>\n",
       "      <th>claim_area</th>\n",
       "      <th>police_report</th>\n",
       "      <th>claim_type</th>\n",
       "      <th>claim_amount</th>\n",
       "      <th>total_policy_claims</th>\n",
       "      <th>fraudulent</th>\n",
       "      <th>alert_flag</th>\n",
       "    </tr>\n",
       "  </thead>\n",
       "  <tbody>\n",
       "    <tr>\n",
       "      <th>0</th>\n",
       "      <td>21868593</td>\n",
       "      <td>Female</td>\n",
       "      <td>1979-01-12</td>\n",
       "      <td>VT</td>\n",
       "      <td>789-916-8172</td>\n",
       "      <td>Platinum</td>\n",
       "      <td>54004764.0</td>\n",
       "      <td>21868593.0</td>\n",
       "      <td>Driver error</td>\n",
       "      <td>2017-11-27</td>\n",
       "      <td>Auto</td>\n",
       "      <td>No</td>\n",
       "      <td>Material only</td>\n",
       "      <td>2980.0</td>\n",
       "      <td>1.0</td>\n",
       "      <td>No</td>\n",
       "      <td>0</td>\n",
       "    </tr>\n",
       "    <tr>\n",
       "      <th>1</th>\n",
       "      <td>75740424</td>\n",
       "      <td>Female</td>\n",
       "      <td>1970-01-13</td>\n",
       "      <td>ME</td>\n",
       "      <td>265-543-1264</td>\n",
       "      <td>Silver</td>\n",
       "      <td>33985796.0</td>\n",
       "      <td>75740424.0</td>\n",
       "      <td>Crime</td>\n",
       "      <td>2018-10-03</td>\n",
       "      <td>Home</td>\n",
       "      <td>Unknown</td>\n",
       "      <td>Material only</td>\n",
       "      <td>2980.0</td>\n",
       "      <td>3.0</td>\n",
       "      <td>No</td>\n",
       "      <td>NaN</td>\n",
       "    </tr>\n",
       "    <tr>\n",
       "      <th>2</th>\n",
       "      <td>30308357</td>\n",
       "      <td>Female</td>\n",
       "      <td>1984-03-11</td>\n",
       "      <td>TN</td>\n",
       "      <td>798-631-4758</td>\n",
       "      <td>Silver</td>\n",
       "      <td>53522022.0</td>\n",
       "      <td>30308357.0</td>\n",
       "      <td>Other driver error</td>\n",
       "      <td>2018-02-02</td>\n",
       "      <td>Auto</td>\n",
       "      <td>No</td>\n",
       "      <td>Material only</td>\n",
       "      <td>3369.5</td>\n",
       "      <td>1.0</td>\n",
       "      <td>Yes</td>\n",
       "      <td>0</td>\n",
       "    </tr>\n",
       "    <tr>\n",
       "      <th>4</th>\n",
       "      <td>47830476</td>\n",
       "      <td>Female</td>\n",
       "      <td>1986-05-01</td>\n",
       "      <td>MA</td>\n",
       "      <td>413-187-7945</td>\n",
       "      <td>Silver</td>\n",
       "      <td>13015401.0</td>\n",
       "      <td>47830476.0</td>\n",
       "      <td>Natural causes</td>\n",
       "      <td>2018-06-17</td>\n",
       "      <td>Auto</td>\n",
       "      <td>No</td>\n",
       "      <td>Material only</td>\n",
       "      <td>1680.0</td>\n",
       "      <td>1.0</td>\n",
       "      <td>No</td>\n",
       "      <td>0</td>\n",
       "    </tr>\n",
       "    <tr>\n",
       "      <th>6</th>\n",
       "      <td>19269962</td>\n",
       "      <td>Male</td>\n",
       "      <td>1977-05-13</td>\n",
       "      <td>NV</td>\n",
       "      <td>956-871-8691</td>\n",
       "      <td>Gold</td>\n",
       "      <td>22890252.0</td>\n",
       "      <td>19269962.0</td>\n",
       "      <td>Crime</td>\n",
       "      <td>2018-01-13</td>\n",
       "      <td>Auto</td>\n",
       "      <td>No</td>\n",
       "      <td>Material only</td>\n",
       "      <td>2680.0</td>\n",
       "      <td>1.0</td>\n",
       "      <td>No</td>\n",
       "      <td>0</td>\n",
       "    </tr>\n",
       "  </tbody>\n",
       "</table>\n",
       "</div>"
      ],
      "text/plain": [
       "    CUST_ID  gender DateOfBirth State       Contact   Segment    claim_id  \\\n",
       "0  21868593  Female  1979-01-12    VT  789-916-8172  Platinum  54004764.0   \n",
       "1  75740424  Female  1970-01-13    ME  265-543-1264    Silver  33985796.0   \n",
       "2  30308357  Female  1984-03-11    TN  798-631-4758    Silver  53522022.0   \n",
       "4  47830476  Female  1986-05-01    MA  413-187-7945    Silver  13015401.0   \n",
       "6  19269962    Male  1977-05-13    NV  956-871-8691      Gold  22890252.0   \n",
       "\n",
       "   customer_id      incident_cause claim_date claim_area police_report  \\\n",
       "0   21868593.0        Driver error 2017-11-27       Auto            No   \n",
       "1   75740424.0               Crime 2018-10-03       Home       Unknown   \n",
       "2   30308357.0  Other driver error 2018-02-02       Auto            No   \n",
       "4   47830476.0      Natural causes 2018-06-17       Auto            No   \n",
       "6   19269962.0               Crime 2018-01-13       Auto            No   \n",
       "\n",
       "      claim_type  claim_amount  total_policy_claims fraudulent alert_flag  \n",
       "0  Material only        2980.0                  1.0         No          0  \n",
       "1  Material only        2980.0                  3.0         No        NaN  \n",
       "2  Material only        3369.5                  1.0        Yes          0  \n",
       "4  Material only        1680.0                  1.0         No          0  \n",
       "6  Material only        2680.0                  1.0         No          0  "
      ]
     },
     "execution_count": 14,
     "metadata": {},
     "output_type": "execute_result"
    }
   ],
   "source": [
    "cust_claims =  cust_claims.drop_duplicates( subset=['CUST_ID'])\n",
    "cust_claims.head()"
   ]
  },
  {
   "cell_type": "markdown",
   "id": "60c126fb",
   "metadata": {},
   "source": [
    "## Q6. Check for missing values and impute the missing values with an appropriate value.(mean for continuous and mode for categorical"
   ]
  },
  {
   "cell_type": "code",
   "execution_count": 15,
   "id": "af75b965",
   "metadata": {},
   "outputs": [
    {
     "data": {
      "text/plain": [
       "CUST_ID                 0\n",
       "gender                  0\n",
       "DateOfBirth             0\n",
       "State                   0\n",
       "Contact                 0\n",
       "Segment                 0\n",
       "claim_id                7\n",
       "customer_id             7\n",
       "incident_cause          7\n",
       "claim_date              7\n",
       "claim_area              7\n",
       "police_report           7\n",
       "claim_type              7\n",
       "claim_amount           72\n",
       "total_policy_claims    17\n",
       "fraudulent              7\n",
       "alert_flag              0\n",
       "dtype: int64"
      ]
     },
     "execution_count": 15,
     "metadata": {},
     "output_type": "execute_result"
    }
   ],
   "source": [
    "cust_claims.isnull().sum()"
   ]
  },
  {
   "cell_type": "code",
   "execution_count": 16,
   "id": "a9a5dc9b",
   "metadata": {},
   "outputs": [],
   "source": [
    "#Imputing missing values of categorical variables to mode \n",
    "cat_col = ['claim_id','incident_cause','claim_date','claim_area','police_report','claim_type',\n",
    "           'total_policy_claims','fraudulent']\n",
    "for col in cat_col:\n",
    "    cust_claims[col]= cust_claims[col].fillna(cust_claims[col].mode().iloc[0], axis=0)"
   ]
  },
  {
   "cell_type": "code",
   "execution_count": 17,
   "id": "ecad60d5",
   "metadata": {},
   "outputs": [],
   "source": [
    "#Imputing missing values of continuous varible to mode \n",
    "cust_claims['claim_amount'] = cust_claims.claim_amount.fillna(cust_claims.claim_amount.mean(), axis = 0)"
   ]
  },
  {
   "cell_type": "code",
   "execution_count": 18,
   "id": "40d648b5",
   "metadata": {},
   "outputs": [
    {
     "data": {
      "text/plain": [
       "CUST_ID                0\n",
       "gender                 0\n",
       "DateOfBirth            0\n",
       "State                  0\n",
       "Contact                0\n",
       "Segment                0\n",
       "claim_id               0\n",
       "customer_id            7\n",
       "incident_cause         0\n",
       "claim_date             0\n",
       "claim_area             0\n",
       "police_report          0\n",
       "claim_type             0\n",
       "claim_amount           0\n",
       "total_policy_claims    0\n",
       "fraudulent             0\n",
       "alert_flag             0\n",
       "dtype: int64"
      ]
     },
     "execution_count": 18,
     "metadata": {},
     "output_type": "execute_result"
    }
   ],
   "source": [
    "cust_claims.isnull().sum()"
   ]
  },
  {
   "cell_type": "markdown",
   "id": "93464429",
   "metadata": {},
   "source": [
    "## 7. Calculate the age of customers in years. Based on the age, categorize the customers according to the below criteria Children < 18 Youth 18-30 Adult 30-60 Senior > 60"
   ]
  },
  {
   "cell_type": "code",
   "execution_count": 19,
   "id": "b1c31ab5",
   "metadata": {},
   "outputs": [
    {
     "data": {
      "text/plain": [
       "0    43.0\n",
       "1    52.0\n",
       "2    38.0\n",
       "4    36.0\n",
       "6    45.0\n",
       "Name: age, dtype: float64"
      ]
     },
     "execution_count": 19,
     "metadata": {},
     "output_type": "execute_result"
    }
   ],
   "source": [
    "cust_claims['age'] = (pd.Timestamp('now')-cust_claims['DateOfBirth']).astype('<m8[Y]')\n",
    "cust_claims.age.head()"
   ]
  },
  {
   "cell_type": "code",
   "execution_count": 20,
   "id": "cbf9f0b7",
   "metadata": {},
   "outputs": [],
   "source": [
    "def age_group (x):\n",
    "    if x.age < 18 :\n",
    "        return 'children'\n",
    "    elif x.age < 30:\n",
    "        return 'youth'\n",
    "    elif x.age <= 60:\n",
    "        return 'adult'\n",
    "    else :\n",
    "        return 'senior'"
   ]
  },
  {
   "cell_type": "code",
   "execution_count": 21,
   "id": "6400878e",
   "metadata": {},
   "outputs": [
    {
     "data": {
      "text/html": [
       "<div>\n",
       "<style scoped>\n",
       "    .dataframe tbody tr th:only-of-type {\n",
       "        vertical-align: middle;\n",
       "    }\n",
       "\n",
       "    .dataframe tbody tr th {\n",
       "        vertical-align: top;\n",
       "    }\n",
       "\n",
       "    .dataframe thead th {\n",
       "        text-align: right;\n",
       "    }\n",
       "</style>\n",
       "<table border=\"1\" class=\"dataframe\">\n",
       "  <thead>\n",
       "    <tr style=\"text-align: right;\">\n",
       "      <th></th>\n",
       "      <th>CUST_ID</th>\n",
       "      <th>gender</th>\n",
       "      <th>DateOfBirth</th>\n",
       "      <th>State</th>\n",
       "      <th>Contact</th>\n",
       "      <th>Segment</th>\n",
       "      <th>claim_id</th>\n",
       "      <th>customer_id</th>\n",
       "      <th>incident_cause</th>\n",
       "      <th>claim_date</th>\n",
       "      <th>claim_area</th>\n",
       "      <th>police_report</th>\n",
       "      <th>claim_type</th>\n",
       "      <th>claim_amount</th>\n",
       "      <th>total_policy_claims</th>\n",
       "      <th>fraudulent</th>\n",
       "      <th>alert_flag</th>\n",
       "      <th>age</th>\n",
       "      <th>age_group</th>\n",
       "    </tr>\n",
       "  </thead>\n",
       "  <tbody>\n",
       "    <tr>\n",
       "      <th>0</th>\n",
       "      <td>21868593</td>\n",
       "      <td>Female</td>\n",
       "      <td>1979-01-12</td>\n",
       "      <td>VT</td>\n",
       "      <td>789-916-8172</td>\n",
       "      <td>Platinum</td>\n",
       "      <td>54004764.0</td>\n",
       "      <td>21868593.0</td>\n",
       "      <td>Driver error</td>\n",
       "      <td>2017-11-27</td>\n",
       "      <td>Auto</td>\n",
       "      <td>No</td>\n",
       "      <td>Material only</td>\n",
       "      <td>2980.0</td>\n",
       "      <td>1.0</td>\n",
       "      <td>No</td>\n",
       "      <td>0</td>\n",
       "      <td>43.0</td>\n",
       "      <td>adult</td>\n",
       "    </tr>\n",
       "    <tr>\n",
       "      <th>1</th>\n",
       "      <td>75740424</td>\n",
       "      <td>Female</td>\n",
       "      <td>1970-01-13</td>\n",
       "      <td>ME</td>\n",
       "      <td>265-543-1264</td>\n",
       "      <td>Silver</td>\n",
       "      <td>33985796.0</td>\n",
       "      <td>75740424.0</td>\n",
       "      <td>Crime</td>\n",
       "      <td>2018-10-03</td>\n",
       "      <td>Home</td>\n",
       "      <td>Unknown</td>\n",
       "      <td>Material only</td>\n",
       "      <td>2980.0</td>\n",
       "      <td>3.0</td>\n",
       "      <td>No</td>\n",
       "      <td>NaN</td>\n",
       "      <td>52.0</td>\n",
       "      <td>adult</td>\n",
       "    </tr>\n",
       "  </tbody>\n",
       "</table>\n",
       "</div>"
      ],
      "text/plain": [
       "    CUST_ID  gender DateOfBirth State       Contact   Segment    claim_id  \\\n",
       "0  21868593  Female  1979-01-12    VT  789-916-8172  Platinum  54004764.0   \n",
       "1  75740424  Female  1970-01-13    ME  265-543-1264    Silver  33985796.0   \n",
       "\n",
       "   customer_id incident_cause claim_date claim_area police_report  \\\n",
       "0   21868593.0   Driver error 2017-11-27       Auto            No   \n",
       "1   75740424.0          Crime 2018-10-03       Home       Unknown   \n",
       "\n",
       "      claim_type  claim_amount  total_policy_claims fraudulent alert_flag  \\\n",
       "0  Material only        2980.0                  1.0         No          0   \n",
       "1  Material only        2980.0                  3.0         No        NaN   \n",
       "\n",
       "    age age_group  \n",
       "0  43.0     adult  \n",
       "1  52.0     adult  "
      ]
     },
     "execution_count": 21,
     "metadata": {},
     "output_type": "execute_result"
    }
   ],
   "source": [
    "cust_claims['age_group'] = cust_claims.apply(age_group , axis = 1)\n",
    "cust_claims.head(2)"
   ]
  },
  {
   "cell_type": "markdown",
   "id": "cadeff5d",
   "metadata": {},
   "source": [
    "## 8. What is the average amount claimed by the customers from various segments?\n",
    "\n"
   ]
  },
  {
   "cell_type": "code",
   "execution_count": 22,
   "id": "89199acf",
   "metadata": {},
   "outputs": [
    {
     "data": {
      "text/html": [
       "<div>\n",
       "<style scoped>\n",
       "    .dataframe tbody tr th:only-of-type {\n",
       "        vertical-align: middle;\n",
       "    }\n",
       "\n",
       "    .dataframe tbody tr th {\n",
       "        vertical-align: top;\n",
       "    }\n",
       "\n",
       "    .dataframe thead th {\n",
       "        text-align: right;\n",
       "    }\n",
       "</style>\n",
       "<table border=\"1\" class=\"dataframe\">\n",
       "  <thead>\n",
       "    <tr style=\"text-align: right;\">\n",
       "      <th></th>\n",
       "      <th>claim_amount</th>\n",
       "    </tr>\n",
       "    <tr>\n",
       "      <th>Segment</th>\n",
       "      <th></th>\n",
       "    </tr>\n",
       "  </thead>\n",
       "  <tbody>\n",
       "    <tr>\n",
       "      <th>Gold</th>\n",
       "      <td>12755.71</td>\n",
       "    </tr>\n",
       "    <tr>\n",
       "      <th>Platinum</th>\n",
       "      <td>12370.14</td>\n",
       "    </tr>\n",
       "    <tr>\n",
       "      <th>Silver</th>\n",
       "      <td>12271.16</td>\n",
       "    </tr>\n",
       "  </tbody>\n",
       "</table>\n",
       "</div>"
      ],
      "text/plain": [
       "          claim_amount\n",
       "Segment               \n",
       "Gold          12755.71\n",
       "Platinum      12370.14\n",
       "Silver        12271.16"
      ]
     },
     "execution_count": 22,
     "metadata": {},
     "output_type": "execute_result"
    }
   ],
   "source": [
    "round(cust_claims.groupby('Segment')[['claim_amount']].mean(),2)"
   ]
  },
  {
   "cell_type": "markdown",
   "id": "4c8f88d7",
   "metadata": {},
   "source": [
    "## 9. What is the total claim amount based on incident cause for all the claims that have been done at least 20 days prior to 1st of October, 2018."
   ]
  },
  {
   "cell_type": "code",
   "execution_count": 23,
   "id": "0cfa6d71",
   "metadata": {},
   "outputs": [
    {
     "data": {
      "text/html": [
       "<div>\n",
       "<style scoped>\n",
       "    .dataframe tbody tr th:only-of-type {\n",
       "        vertical-align: middle;\n",
       "    }\n",
       "\n",
       "    .dataframe tbody tr th {\n",
       "        vertical-align: top;\n",
       "    }\n",
       "\n",
       "    .dataframe thead th {\n",
       "        text-align: right;\n",
       "    }\n",
       "</style>\n",
       "<table border=\"1\" class=\"dataframe\">\n",
       "  <thead>\n",
       "    <tr style=\"text-align: right;\">\n",
       "      <th></th>\n",
       "      <th>claim_amount</th>\n",
       "    </tr>\n",
       "    <tr>\n",
       "      <th>incident_cause</th>\n",
       "      <th></th>\n",
       "    </tr>\n",
       "  </thead>\n",
       "  <tbody>\n",
       "    <tr>\n",
       "      <th>Crime</th>\n",
       "      <td>724462.49</td>\n",
       "    </tr>\n",
       "    <tr>\n",
       "      <th>Driver error</th>\n",
       "      <td>3264285.98</td>\n",
       "    </tr>\n",
       "    <tr>\n",
       "      <th>Natural causes</th>\n",
       "      <td>1312705.99</td>\n",
       "    </tr>\n",
       "    <tr>\n",
       "      <th>Other causes</th>\n",
       "      <td>3812331.96</td>\n",
       "    </tr>\n",
       "    <tr>\n",
       "      <th>Other driver error</th>\n",
       "      <td>3318806.48</td>\n",
       "    </tr>\n",
       "  </tbody>\n",
       "</table>\n",
       "</div>"
      ],
      "text/plain": [
       "                    claim_amount\n",
       "incident_cause                  \n",
       "Crime                  724462.49\n",
       "Driver error          3264285.98\n",
       "Natural causes        1312705.99\n",
       "Other causes          3812331.96\n",
       "Other driver error    3318806.48"
      ]
     },
     "execution_count": 23,
     "metadata": {},
     "output_type": "execute_result"
    }
   ],
   "source": [
    "round(cust_claims.loc[cust_claims.claim_date < '2018-9-10',:].groupby('incident_cause')[['claim_amount']].sum(),2)\n"
   ]
  },
  {
   "cell_type": "markdown",
   "id": "bc31f3b6",
   "metadata": {},
   "source": [
    "## 10. How many adults from TX, DE and AK claimed insurance for driver related issues and causes? "
   ]
  },
  {
   "cell_type": "code",
   "execution_count": 24,
   "id": "fbfb203a",
   "metadata": {},
   "outputs": [
    {
     "data": {
      "text/html": [
       "<div>\n",
       "<style scoped>\n",
       "    .dataframe tbody tr th:only-of-type {\n",
       "        vertical-align: middle;\n",
       "    }\n",
       "\n",
       "    .dataframe tbody tr th {\n",
       "        vertical-align: top;\n",
       "    }\n",
       "\n",
       "    .dataframe thead th {\n",
       "        text-align: right;\n",
       "    }\n",
       "</style>\n",
       "<table border=\"1\" class=\"dataframe\">\n",
       "  <thead>\n",
       "    <tr style=\"text-align: right;\">\n",
       "      <th></th>\n",
       "      <th>State</th>\n",
       "    </tr>\n",
       "    <tr>\n",
       "      <th>State</th>\n",
       "      <th></th>\n",
       "    </tr>\n",
       "  </thead>\n",
       "  <tbody>\n",
       "    <tr>\n",
       "      <th>AK</th>\n",
       "      <td>8</td>\n",
       "    </tr>\n",
       "    <tr>\n",
       "      <th>DE</th>\n",
       "      <td>10</td>\n",
       "    </tr>\n",
       "    <tr>\n",
       "      <th>TX</th>\n",
       "      <td>9</td>\n",
       "    </tr>\n",
       "  </tbody>\n",
       "</table>\n",
       "</div>"
      ],
      "text/plain": [
       "       State\n",
       "State       \n",
       "AK         8\n",
       "DE        10\n",
       "TX         9"
      ]
     },
     "execution_count": 24,
     "metadata": {},
     "output_type": "execute_result"
    }
   ],
   "source": [
    "cust_claims.loc[((cust_claims.State == 'TX') | (cust_claims.State == 'DE') | (cust_claims.State == 'AK'))\n",
    "                & (cust_claims.incident_cause.str.lower().str.contains('driver'))\n",
    "                & (cust_claims.age_group == 'adult') ,:].groupby('State')[['State']].count()"
   ]
  },
  {
   "cell_type": "markdown",
   "id": "c880e001",
   "metadata": {},
   "source": [
    "## 11. Draw a pie chart between the aggregated value of claim amount based on gender and segment. Represent the claim amount as a percentage on the pie chart."
   ]
  },
  {
   "cell_type": "code",
   "execution_count": 25,
   "id": "a7ac1ade",
   "metadata": {},
   "outputs": [
    {
     "data": {
      "text/html": [
       "<div>\n",
       "<style scoped>\n",
       "    .dataframe tbody tr th:only-of-type {\n",
       "        vertical-align: middle;\n",
       "    }\n",
       "\n",
       "    .dataframe tbody tr th {\n",
       "        vertical-align: top;\n",
       "    }\n",
       "\n",
       "    .dataframe thead th {\n",
       "        text-align: right;\n",
       "    }\n",
       "</style>\n",
       "<table border=\"1\" class=\"dataframe\">\n",
       "  <thead>\n",
       "    <tr style=\"text-align: right;\">\n",
       "      <th>Segment</th>\n",
       "      <th>Gold</th>\n",
       "      <th>Platinum</th>\n",
       "      <th>Silver</th>\n",
       "    </tr>\n",
       "    <tr>\n",
       "      <th>gender</th>\n",
       "      <th></th>\n",
       "      <th></th>\n",
       "      <th></th>\n",
       "    </tr>\n",
       "  </thead>\n",
       "  <tbody>\n",
       "    <tr>\n",
       "      <th>Female</th>\n",
       "      <td>12338.569681</td>\n",
       "      <td>12278.216434</td>\n",
       "      <td>11662.469737</td>\n",
       "    </tr>\n",
       "    <tr>\n",
       "      <th>Male</th>\n",
       "      <td>13114.452404</td>\n",
       "      <td>12475.038148</td>\n",
       "      <td>12823.311354</td>\n",
       "    </tr>\n",
       "  </tbody>\n",
       "</table>\n",
       "</div>"
      ],
      "text/plain": [
       "Segment          Gold      Platinum        Silver\n",
       "gender                                           \n",
       "Female   12338.569681  12278.216434  11662.469737\n",
       "Male     13114.452404  12475.038148  12823.311354"
      ]
     },
     "execution_count": 25,
     "metadata": {},
     "output_type": "execute_result"
    }
   ],
   "source": [
    "gender_seg = pd.pivot_table(cust_claims, values= 'claim_amount', index='gender', columns='Segment')\n",
    "gender_seg"
   ]
  },
  {
   "cell_type": "code",
   "execution_count": 26,
   "id": "563b1144",
   "metadata": {},
   "outputs": [
    {
     "data": {
      "image/png": "[encoded data removed]",
      "text/plain": [
       "<Figure size 1296x360 with 3 Axes>"
      ]
     },
     "metadata": {},
     "output_type": "display_data"
    }
   ],
   "source": [
    "gender_seg.plot(kind = 'pie', autopct=\"%1.0f%%\",subplots= True , figsize =(18,5))\n",
    "plt.show()"
   ]
  },
  {
   "cell_type": "markdown",
   "id": "bc04346c",
   "metadata": {},
   "source": [
    "## 12. Among males and females, which gender had claimed the most for any type of driver related issues? E.g. This metric can be compared using a bar chart\n"
   ]
  },
  {
   "cell_type": "code",
   "execution_count": 27,
   "id": "a357c276",
   "metadata": {},
   "outputs": [
    {
     "data": {
      "text/html": [
       "<div>\n",
       "<style scoped>\n",
       "    .dataframe tbody tr th:only-of-type {\n",
       "        vertical-align: middle;\n",
       "    }\n",
       "\n",
       "    .dataframe tbody tr th {\n",
       "        vertical-align: top;\n",
       "    }\n",
       "\n",
       "    .dataframe thead th {\n",
       "        text-align: right;\n",
       "    }\n",
       "</style>\n",
       "<table border=\"1\" class=\"dataframe\">\n",
       "  <thead>\n",
       "    <tr style=\"text-align: right;\">\n",
       "      <th></th>\n",
       "      <th>gender</th>\n",
       "      <th>CountOf_gender</th>\n",
       "    </tr>\n",
       "  </thead>\n",
       "  <tbody>\n",
       "    <tr>\n",
       "      <th>0</th>\n",
       "      <td>Female</td>\n",
       "      <td>221</td>\n",
       "    </tr>\n",
       "    <tr>\n",
       "      <th>1</th>\n",
       "      <td>Male</td>\n",
       "      <td>280</td>\n",
       "    </tr>\n",
       "  </tbody>\n",
       "</table>\n",
       "</div>"
      ],
      "text/plain": [
       "   gender  CountOf_gender\n",
       "0  Female             221\n",
       "1    Male             280"
      ]
     },
     "execution_count": 27,
     "metadata": {},
     "output_type": "execute_result"
    }
   ],
   "source": [
    "g1 = cust_claims.loc[cust_claims.incident_cause.str.lower().str.contains('driver')\n",
    "                     ,:].groupby('gender')[['gender']].count().add_prefix(\"CountOf_\").reset_index()\n",
    "g1"
   ]
  },
  {
   "cell_type": "code",
   "execution_count": 28,
   "id": "482b35c0",
   "metadata": {},
   "outputs": [
    {
     "data": {
      "image/png": "[encoded data removed]",
      "text/plain": [
       "<Figure size 432x288 with 1 Axes>"
      ]
     },
     "metadata": {
      "needs_background": "light"
     },
     "output_type": "display_data"
    }
   ],
   "source": [
    "sns.barplot(x = \"gender\", y = \"CountOf_gender\", data = g1)\n",
    "plt.show()"
   ]
  },
  {
   "cell_type": "markdown",
   "id": "4782c7db",
   "metadata": {},
   "source": [
    "## 13. Which age group had the maximum fraudulent policy claims? Visualize it on a bar chart."
   ]
  },
  {
   "cell_type": "code",
   "execution_count": 29,
   "id": "fe705912",
   "metadata": {},
   "outputs": [
    {
     "data": {
      "text/html": [
       "<div>\n",
       "<style scoped>\n",
       "    .dataframe tbody tr th:only-of-type {\n",
       "        vertical-align: middle;\n",
       "    }\n",
       "\n",
       "    .dataframe tbody tr th {\n",
       "        vertical-align: top;\n",
       "    }\n",
       "\n",
       "    .dataframe thead th {\n",
       "        text-align: right;\n",
       "    }\n",
       "</style>\n",
       "<table border=\"1\" class=\"dataframe\">\n",
       "  <thead>\n",
       "    <tr style=\"text-align: right;\">\n",
       "      <th></th>\n",
       "      <th>age_group</th>\n",
       "      <th>fraudulent</th>\n",
       "    </tr>\n",
       "  </thead>\n",
       "  <tbody>\n",
       "    <tr>\n",
       "      <th>0</th>\n",
       "      <td>adult</td>\n",
       "      <td>826</td>\n",
       "    </tr>\n",
       "    <tr>\n",
       "      <th>1</th>\n",
       "      <td>senior</td>\n",
       "      <td>48</td>\n",
       "    </tr>\n",
       "    <tr>\n",
       "      <th>2</th>\n",
       "      <td>youth</td>\n",
       "      <td>211</td>\n",
       "    </tr>\n",
       "  </tbody>\n",
       "</table>\n",
       "</div>"
      ],
      "text/plain": [
       "  age_group  fraudulent\n",
       "0     adult         826\n",
       "1    senior          48\n",
       "2     youth         211"
      ]
     },
     "execution_count": 29,
     "metadata": {},
     "output_type": "execute_result"
    }
   ],
   "source": [
    "fraud_age = cust_claims.groupby('age_group')[['fraudulent']].count().reset_index()\n",
    "fraud_age"
   ]
  },
  {
   "cell_type": "code",
   "execution_count": 30,
   "id": "90bd4c5e",
   "metadata": {},
   "outputs": [
    {
     "data": {
      "image/png": "[encoded data removed]",
      "text/plain": [
       "<Figure size 720x360 with 1 Axes>"
      ]
     },
     "metadata": {
      "needs_background": "light"
     },
     "output_type": "display_data"
    }
   ],
   "source": [
    "plt.figure(figsize=(10,5))\n",
    "sns.barplot( x = 'age_group', y ='fraudulent' , data = fraud_age)\n",
    "plt.show()"
   ]
  },
  {
   "cell_type": "code",
   "execution_count": 31,
   "id": "3eab6437",
   "metadata": {},
   "outputs": [
    {
     "name": "stdout",
     "output_type": "stream",
     "text": [
      "Adult had maximum fraudulant policy claim\n"
     ]
    }
   ],
   "source": [
    "print('Adult had maximum fraudulant policy claim')"
   ]
  },
  {
   "cell_type": "markdown",
   "id": "2e89b042",
   "metadata": {},
   "source": [
    "## 14. Visualize the monthly trend of the total amount that has been claimed by the customers. Ensure that on the “month” axis, the month is in a chronological order not alphabetical order. "
   ]
  },
  {
   "cell_type": "code",
   "execution_count": 32,
   "id": "96606264",
   "metadata": {},
   "outputs": [
    {
     "data": {
      "text/html": [
       "<div>\n",
       "<style scoped>\n",
       "    .dataframe tbody tr th:only-of-type {\n",
       "        vertical-align: middle;\n",
       "    }\n",
       "\n",
       "    .dataframe tbody tr th {\n",
       "        vertical-align: top;\n",
       "    }\n",
       "\n",
       "    .dataframe thead th {\n",
       "        text-align: right;\n",
       "    }\n",
       "</style>\n",
       "<table border=\"1\" class=\"dataframe\">\n",
       "  <thead>\n",
       "    <tr style=\"text-align: right;\">\n",
       "      <th></th>\n",
       "      <th>CUST_ID</th>\n",
       "      <th>gender</th>\n",
       "      <th>DateOfBirth</th>\n",
       "      <th>State</th>\n",
       "      <th>Contact</th>\n",
       "      <th>Segment</th>\n",
       "      <th>claim_id</th>\n",
       "      <th>customer_id</th>\n",
       "      <th>incident_cause</th>\n",
       "      <th>claim_date</th>\n",
       "      <th>claim_area</th>\n",
       "      <th>police_report</th>\n",
       "      <th>claim_type</th>\n",
       "      <th>claim_amount</th>\n",
       "      <th>total_policy_claims</th>\n",
       "      <th>fraudulent</th>\n",
       "      <th>alert_flag</th>\n",
       "      <th>age</th>\n",
       "      <th>age_group</th>\n",
       "      <th>month</th>\n",
       "    </tr>\n",
       "  </thead>\n",
       "  <tbody>\n",
       "    <tr>\n",
       "      <th>0</th>\n",
       "      <td>21868593</td>\n",
       "      <td>Female</td>\n",
       "      <td>1979-01-12</td>\n",
       "      <td>VT</td>\n",
       "      <td>789-916-8172</td>\n",
       "      <td>Platinum</td>\n",
       "      <td>54004764.0</td>\n",
       "      <td>21868593.0</td>\n",
       "      <td>Driver error</td>\n",
       "      <td>2017-11-27</td>\n",
       "      <td>Auto</td>\n",
       "      <td>No</td>\n",
       "      <td>Material only</td>\n",
       "      <td>2980.0</td>\n",
       "      <td>1.0</td>\n",
       "      <td>No</td>\n",
       "      <td>0</td>\n",
       "      <td>43.0</td>\n",
       "      <td>adult</td>\n",
       "      <td>November</td>\n",
       "    </tr>\n",
       "    <tr>\n",
       "      <th>1</th>\n",
       "      <td>75740424</td>\n",
       "      <td>Female</td>\n",
       "      <td>1970-01-13</td>\n",
       "      <td>ME</td>\n",
       "      <td>265-543-1264</td>\n",
       "      <td>Silver</td>\n",
       "      <td>33985796.0</td>\n",
       "      <td>75740424.0</td>\n",
       "      <td>Crime</td>\n",
       "      <td>2018-10-03</td>\n",
       "      <td>Home</td>\n",
       "      <td>Unknown</td>\n",
       "      <td>Material only</td>\n",
       "      <td>2980.0</td>\n",
       "      <td>3.0</td>\n",
       "      <td>No</td>\n",
       "      <td>NaN</td>\n",
       "      <td>52.0</td>\n",
       "      <td>adult</td>\n",
       "      <td>October</td>\n",
       "    </tr>\n",
       "  </tbody>\n",
       "</table>\n",
       "</div>"
      ],
      "text/plain": [
       "    CUST_ID  gender DateOfBirth State       Contact   Segment    claim_id  \\\n",
       "0  21868593  Female  1979-01-12    VT  789-916-8172  Platinum  54004764.0   \n",
       "1  75740424  Female  1970-01-13    ME  265-543-1264    Silver  33985796.0   \n",
       "\n",
       "   customer_id incident_cause claim_date claim_area police_report  \\\n",
       "0   21868593.0   Driver error 2017-11-27       Auto            No   \n",
       "1   75740424.0          Crime 2018-10-03       Home       Unknown   \n",
       "\n",
       "      claim_type  claim_amount  total_policy_claims fraudulent alert_flag  \\\n",
       "0  Material only        2980.0                  1.0         No          0   \n",
       "1  Material only        2980.0                  3.0         No        NaN   \n",
       "\n",
       "    age age_group     month  \n",
       "0  43.0     adult  November  \n",
       "1  52.0     adult   October  "
      ]
     },
     "execution_count": 32,
     "metadata": {},
     "output_type": "execute_result"
    }
   ],
   "source": [
    "cust_claims['month'] = cust_claims['claim_date'].apply(lambda x: pd.Timestamp.strftime(x , format = '%B'))\n",
    "cust_claims.head(2)"
   ]
  },
  {
   "cell_type": "code",
   "execution_count": 33,
   "id": "d512d6cb",
   "metadata": {},
   "outputs": [
    {
     "data": {
      "text/html": [
       "<div>\n",
       "<style scoped>\n",
       "    .dataframe tbody tr th:only-of-type {\n",
       "        vertical-align: middle;\n",
       "    }\n",
       "\n",
       "    .dataframe tbody tr th {\n",
       "        vertical-align: top;\n",
       "    }\n",
       "\n",
       "    .dataframe thead th {\n",
       "        text-align: right;\n",
       "    }\n",
       "</style>\n",
       "<table border=\"1\" class=\"dataframe\">\n",
       "  <thead>\n",
       "    <tr style=\"text-align: right;\">\n",
       "      <th></th>\n",
       "      <th>month</th>\n",
       "      <th>claim_amount</th>\n",
       "    </tr>\n",
       "  </thead>\n",
       "  <tbody>\n",
       "    <tr>\n",
       "      <th>0</th>\n",
       "      <td>April</td>\n",
       "      <td>1276071.50</td>\n",
       "    </tr>\n",
       "    <tr>\n",
       "      <th>1</th>\n",
       "      <td>August</td>\n",
       "      <td>911203.50</td>\n",
       "    </tr>\n",
       "    <tr>\n",
       "      <th>2</th>\n",
       "      <td>December</td>\n",
       "      <td>696701.50</td>\n",
       "    </tr>\n",
       "    <tr>\n",
       "      <th>3</th>\n",
       "      <td>February</td>\n",
       "      <td>1133106.99</td>\n",
       "    </tr>\n",
       "    <tr>\n",
       "      <th>4</th>\n",
       "      <td>January</td>\n",
       "      <td>1419305.48</td>\n",
       "    </tr>\n",
       "    <tr>\n",
       "      <th>5</th>\n",
       "      <td>July</td>\n",
       "      <td>1379034.99</td>\n",
       "    </tr>\n",
       "    <tr>\n",
       "      <th>6</th>\n",
       "      <td>June</td>\n",
       "      <td>1276332.99</td>\n",
       "    </tr>\n",
       "    <tr>\n",
       "      <th>7</th>\n",
       "      <td>March</td>\n",
       "      <td>1320093.99</td>\n",
       "    </tr>\n",
       "    <tr>\n",
       "      <th>8</th>\n",
       "      <td>May</td>\n",
       "      <td>1114211.49</td>\n",
       "    </tr>\n",
       "    <tr>\n",
       "      <th>9</th>\n",
       "      <td>November</td>\n",
       "      <td>601125.00</td>\n",
       "    </tr>\n",
       "    <tr>\n",
       "      <th>10</th>\n",
       "      <td>October</td>\n",
       "      <td>1422655.49</td>\n",
       "    </tr>\n",
       "    <tr>\n",
       "      <th>11</th>\n",
       "      <td>September</td>\n",
       "      <td>980647.99</td>\n",
       "    </tr>\n",
       "  </tbody>\n",
       "</table>\n",
       "</div>"
      ],
      "text/plain": [
       "        month  claim_amount\n",
       "0       April    1276071.50\n",
       "1      August     911203.50\n",
       "2    December     696701.50\n",
       "3    February    1133106.99\n",
       "4     January    1419305.48\n",
       "5        July    1379034.99\n",
       "6        June    1276332.99\n",
       "7       March    1320093.99\n",
       "8         May    1114211.49\n",
       "9    November     601125.00\n",
       "10    October    1422655.49\n",
       "11  September     980647.99"
      ]
     },
     "execution_count": 33,
     "metadata": {},
     "output_type": "execute_result"
    }
   ],
   "source": [
    "monthly_amount = round(cust_claims.groupby('month')[['claim_amount']].sum().reset_index(),2)\n",
    "monthly_amount"
   ]
  },
  {
   "cell_type": "code",
   "execution_count": 34,
   "id": "8854fce1",
   "metadata": {},
   "outputs": [
    {
     "data": {
      "text/html": [
       "<div>\n",
       "<style scoped>\n",
       "    .dataframe tbody tr th:only-of-type {\n",
       "        vertical-align: middle;\n",
       "    }\n",
       "\n",
       "    .dataframe tbody tr th {\n",
       "        vertical-align: top;\n",
       "    }\n",
       "\n",
       "    .dataframe thead th {\n",
       "        text-align: right;\n",
       "    }\n",
       "</style>\n",
       "<table border=\"1\" class=\"dataframe\">\n",
       "  <thead>\n",
       "    <tr style=\"text-align: right;\">\n",
       "      <th></th>\n",
       "      <th>month</th>\n",
       "      <th>claim_amount</th>\n",
       "      <th>N_month</th>\n",
       "    </tr>\n",
       "  </thead>\n",
       "  <tbody>\n",
       "    <tr>\n",
       "      <th>4</th>\n",
       "      <td>January</td>\n",
       "      <td>1419305.48</td>\n",
       "      <td>1</td>\n",
       "    </tr>\n",
       "    <tr>\n",
       "      <th>3</th>\n",
       "      <td>February</td>\n",
       "      <td>1133106.99</td>\n",
       "      <td>2</td>\n",
       "    </tr>\n",
       "    <tr>\n",
       "      <th>7</th>\n",
       "      <td>March</td>\n",
       "      <td>1320093.99</td>\n",
       "      <td>3</td>\n",
       "    </tr>\n",
       "    <tr>\n",
       "      <th>0</th>\n",
       "      <td>April</td>\n",
       "      <td>1276071.50</td>\n",
       "      <td>4</td>\n",
       "    </tr>\n",
       "    <tr>\n",
       "      <th>8</th>\n",
       "      <td>May</td>\n",
       "      <td>1114211.49</td>\n",
       "      <td>5</td>\n",
       "    </tr>\n",
       "    <tr>\n",
       "      <th>6</th>\n",
       "      <td>June</td>\n",
       "      <td>1276332.99</td>\n",
       "      <td>6</td>\n",
       "    </tr>\n",
       "    <tr>\n",
       "      <th>5</th>\n",
       "      <td>July</td>\n",
       "      <td>1379034.99</td>\n",
       "      <td>7</td>\n",
       "    </tr>\n",
       "    <tr>\n",
       "      <th>1</th>\n",
       "      <td>August</td>\n",
       "      <td>911203.50</td>\n",
       "      <td>8</td>\n",
       "    </tr>\n",
       "    <tr>\n",
       "      <th>11</th>\n",
       "      <td>September</td>\n",
       "      <td>980647.99</td>\n",
       "      <td>9</td>\n",
       "    </tr>\n",
       "    <tr>\n",
       "      <th>10</th>\n",
       "      <td>October</td>\n",
       "      <td>1422655.49</td>\n",
       "      <td>10</td>\n",
       "    </tr>\n",
       "    <tr>\n",
       "      <th>9</th>\n",
       "      <td>November</td>\n",
       "      <td>601125.00</td>\n",
       "      <td>11</td>\n",
       "    </tr>\n",
       "    <tr>\n",
       "      <th>2</th>\n",
       "      <td>December</td>\n",
       "      <td>696701.50</td>\n",
       "      <td>12</td>\n",
       "    </tr>\n",
       "  </tbody>\n",
       "</table>\n",
       "</div>"
      ],
      "text/plain": [
       "        month  claim_amount  N_month\n",
       "4     January    1419305.48        1\n",
       "3    February    1133106.99        2\n",
       "7       March    1320093.99        3\n",
       "0       April    1276071.50        4\n",
       "8         May    1114211.49        5\n",
       "6        June    1276332.99        6\n",
       "5        July    1379034.99        7\n",
       "1      August     911203.50        8\n",
       "11  September     980647.99        9\n",
       "10    October    1422655.49       10\n",
       "9    November     601125.00       11\n",
       "2    December     696701.50       12"
      ]
     },
     "execution_count": 34,
     "metadata": {},
     "output_type": "execute_result"
    }
   ],
   "source": [
    "monthly_amount['N_month'] = pd.DatetimeIndex(pd.to_datetime(monthly_amount['month'], format='%B')).month\n",
    "monthly_amount = monthly_amount.sort_values(by='N_month' )\n",
    "monthly_amount"
   ]
  },
  {
   "cell_type": "code",
   "execution_count": 35,
   "id": "8ae54a83",
   "metadata": {},
   "outputs": [
    {
     "data": {
      "image/png": "[encoded data removed]",
      "text/plain": [
       "<Figure size 864x432 with 1 Axes>"
      ]
     },
     "metadata": {
      "needs_background": "light"
     },
     "output_type": "display_data"
    }
   ],
   "source": [
    "plt.figure( figsize = (12,6))\n",
    "sns.barplot( data = monthly_amount , x = 'month' , y ='claim_amount')\n",
    "plt.show()"
   ]
  },
  {
   "cell_type": "markdown",
   "id": "dc2dccab",
   "metadata": {},
   "source": [
    "## 15. What is the average claim amount for gender and age categories and suitably represent the above using a facetted bar chart, one facet that represents fraudulent claims and the other for non-fraudulent claims.\n"
   ]
  },
  {
   "cell_type": "code",
   "execution_count": 36,
   "id": "3304fb44",
   "metadata": {},
   "outputs": [
    {
     "data": {
      "text/html": [
       "<div>\n",
       "<style scoped>\n",
       "    .dataframe tbody tr th:only-of-type {\n",
       "        vertical-align: middle;\n",
       "    }\n",
       "\n",
       "    .dataframe tbody tr th {\n",
       "        vertical-align: top;\n",
       "    }\n",
       "\n",
       "    .dataframe thead th {\n",
       "        text-align: right;\n",
       "    }\n",
       "</style>\n",
       "<table border=\"1\" class=\"dataframe\">\n",
       "  <thead>\n",
       "    <tr style=\"text-align: right;\">\n",
       "      <th>gender</th>\n",
       "      <th>fraudulent</th>\n",
       "      <th>Female</th>\n",
       "      <th>Male</th>\n",
       "    </tr>\n",
       "    <tr>\n",
       "      <th>age_group</th>\n",
       "      <th></th>\n",
       "      <th></th>\n",
       "      <th></th>\n",
       "    </tr>\n",
       "  </thead>\n",
       "  <tbody>\n",
       "    <tr>\n",
       "      <th>adult</th>\n",
       "      <td>No</td>\n",
       "      <td>12201.38</td>\n",
       "      <td>12153.56</td>\n",
       "    </tr>\n",
       "    <tr>\n",
       "      <th>adult</th>\n",
       "      <td>Yes</td>\n",
       "      <td>12105.83</td>\n",
       "      <td>15970.78</td>\n",
       "    </tr>\n",
       "    <tr>\n",
       "      <th>senior</th>\n",
       "      <td>No</td>\n",
       "      <td>13022.83</td>\n",
       "      <td>13766.19</td>\n",
       "    </tr>\n",
       "    <tr>\n",
       "      <th>senior</th>\n",
       "      <td>Yes</td>\n",
       "      <td>4387.89</td>\n",
       "      <td>28232.50</td>\n",
       "    </tr>\n",
       "    <tr>\n",
       "      <th>youth</th>\n",
       "      <td>No</td>\n",
       "      <td>13164.06</td>\n",
       "      <td>11975.48</td>\n",
       "    </tr>\n",
       "    <tr>\n",
       "      <th>youth</th>\n",
       "      <td>Yes</td>\n",
       "      <td>9214.55</td>\n",
       "      <td>7797.89</td>\n",
       "    </tr>\n",
       "  </tbody>\n",
       "</table>\n",
       "</div>"
      ],
      "text/plain": [
       "gender    fraudulent    Female      Male\n",
       "age_group                               \n",
       "adult             No  12201.38  12153.56\n",
       "adult            Yes  12105.83  15970.78\n",
       "senior            No  13022.83  13766.19\n",
       "senior           Yes   4387.89  28232.50\n",
       "youth             No  13164.06  11975.48\n",
       "youth            Yes   9214.55   7797.89"
      ]
     },
     "execution_count": 36,
     "metadata": {},
     "output_type": "execute_result"
    }
   ],
   "source": [
    "gender_age =  round(pd.pivot_table( data = cust_claims, index = ['age_group','fraudulent'] , \n",
    "                                   columns='gender' , values = 'claim_amount').reset_index(), 2)\n",
    "gender_age.set_index('age_group' , inplace = True)\n",
    "gender_age"
   ]
  },
  {
   "cell_type": "code",
   "execution_count": 37,
   "id": "d1159100",
   "metadata": {},
   "outputs": [
    {
     "data": {
      "text/html": [
       "<div>\n",
       "<style scoped>\n",
       "    .dataframe tbody tr th:only-of-type {\n",
       "        vertical-align: middle;\n",
       "    }\n",
       "\n",
       "    .dataframe tbody tr th {\n",
       "        vertical-align: top;\n",
       "    }\n",
       "\n",
       "    .dataframe thead th {\n",
       "        text-align: right;\n",
       "    }\n",
       "</style>\n",
       "<table border=\"1\" class=\"dataframe\">\n",
       "  <thead>\n",
       "    <tr style=\"text-align: right;\">\n",
       "      <th>gender</th>\n",
       "      <th>fraudulent</th>\n",
       "      <th>Female</th>\n",
       "      <th>Male</th>\n",
       "    </tr>\n",
       "    <tr>\n",
       "      <th>age_group</th>\n",
       "      <th></th>\n",
       "      <th></th>\n",
       "      <th></th>\n",
       "    </tr>\n",
       "  </thead>\n",
       "  <tbody>\n",
       "    <tr>\n",
       "      <th>adult</th>\n",
       "      <td>Yes</td>\n",
       "      <td>12105.83</td>\n",
       "      <td>15970.78</td>\n",
       "    </tr>\n",
       "    <tr>\n",
       "      <th>senior</th>\n",
       "      <td>Yes</td>\n",
       "      <td>4387.89</td>\n",
       "      <td>28232.50</td>\n",
       "    </tr>\n",
       "    <tr>\n",
       "      <th>youth</th>\n",
       "      <td>Yes</td>\n",
       "      <td>9214.55</td>\n",
       "      <td>7797.89</td>\n",
       "    </tr>\n",
       "  </tbody>\n",
       "</table>\n",
       "</div>"
      ],
      "text/plain": [
       "gender    fraudulent    Female      Male\n",
       "age_group                               \n",
       "adult            Yes  12105.83  15970.78\n",
       "senior           Yes   4387.89  28232.50\n",
       "youth            Yes   9214.55   7797.89"
      ]
     },
     "execution_count": 37,
     "metadata": {},
     "output_type": "execute_result"
    }
   ],
   "source": [
    "fraudulant_claim = gender_age.loc[gender_age.fraudulent == 'Yes']\n",
    "fraudulant_claim"
   ]
  },
  {
   "cell_type": "code",
   "execution_count": 38,
   "id": "ee4477ed",
   "metadata": {},
   "outputs": [
    {
     "data": {
      "text/html": [
       "<div>\n",
       "<style scoped>\n",
       "    .dataframe tbody tr th:only-of-type {\n",
       "        vertical-align: middle;\n",
       "    }\n",
       "\n",
       "    .dataframe tbody tr th {\n",
       "        vertical-align: top;\n",
       "    }\n",
       "\n",
       "    .dataframe thead th {\n",
       "        text-align: right;\n",
       "    }\n",
       "</style>\n",
       "<table border=\"1\" class=\"dataframe\">\n",
       "  <thead>\n",
       "    <tr style=\"text-align: right;\">\n",
       "      <th>gender</th>\n",
       "      <th>fraudulent</th>\n",
       "      <th>Female</th>\n",
       "      <th>Male</th>\n",
       "    </tr>\n",
       "    <tr>\n",
       "      <th>age_group</th>\n",
       "      <th></th>\n",
       "      <th></th>\n",
       "      <th></th>\n",
       "    </tr>\n",
       "  </thead>\n",
       "  <tbody>\n",
       "    <tr>\n",
       "      <th>adult</th>\n",
       "      <td>No</td>\n",
       "      <td>12201.38</td>\n",
       "      <td>12153.56</td>\n",
       "    </tr>\n",
       "    <tr>\n",
       "      <th>senior</th>\n",
       "      <td>No</td>\n",
       "      <td>13022.83</td>\n",
       "      <td>13766.19</td>\n",
       "    </tr>\n",
       "    <tr>\n",
       "      <th>youth</th>\n",
       "      <td>No</td>\n",
       "      <td>13164.06</td>\n",
       "      <td>11975.48</td>\n",
       "    </tr>\n",
       "  </tbody>\n",
       "</table>\n",
       "</div>"
      ],
      "text/plain": [
       "gender    fraudulent    Female      Male\n",
       "age_group                               \n",
       "adult             No  12201.38  12153.56\n",
       "senior            No  13022.83  13766.19\n",
       "youth             No  13164.06  11975.48"
      ]
     },
     "execution_count": 38,
     "metadata": {},
     "output_type": "execute_result"
    }
   ],
   "source": [
    "non_fraudulant_claim = gender_age.loc[gender_age.fraudulent == 'No']\n",
    "non_fraudulant_claim"
   ]
  },
  {
   "cell_type": "code",
   "execution_count": 39,
   "id": "e7b8c2c8",
   "metadata": {},
   "outputs": [
    {
     "data": {
      "image/png": "[encoded data removed]",
      "text/plain": [
       "<Figure size 432x288 with 1 Axes>"
      ]
     },
     "metadata": {
      "needs_background": "light"
     },
     "output_type": "display_data"
    },
    {
     "data": {
      "image/png": "[encoded data removed]",
      "text/plain": [
       "<Figure size 432x288 with 1 Axes>"
      ]
     },
     "metadata": {
      "needs_background": "light"
     },
     "output_type": "display_data"
    }
   ],
   "source": [
    "fraudulant_claim.plot(kind = 'bar' )\n",
    "plt.xlabel('Fraudulant_claim')\n",
    "plt.ylabel('Claim_amount')\n",
    "\n",
    "non_fraudulant_claim.plot(kind = 'bar', legend = False)\n",
    "plt.xlabel('Non_fraudulant_claim')\n",
    "plt.ylabel('Claim_amount')\n",
    "\n",
    "plt.show()"
   ]
  },
  {
   "cell_type": "markdown",
   "id": "4957f77f",
   "metadata": {},
   "source": [
    "# Hypothesis testing"
   ]
  },
  {
   "cell_type": "markdown",
   "id": "34dbb3e7",
   "metadata": {},
   "source": [
    "## 16. Is there any similarity in the amount claimed by males and females?"
   ]
  },
  {
   "cell_type": "code",
   "execution_count": 40,
   "id": "019ace06",
   "metadata": {},
   "outputs": [
    {
     "data": {
      "text/plain": [
       "array(['Female', 'Male'], dtype=object)"
      ]
     },
     "execution_count": 40,
     "metadata": {},
     "output_type": "execute_result"
    }
   ],
   "source": [
    "cust_claims.gender.unique()\n"
   ]
  },
  {
   "cell_type": "code",
   "execution_count": 41,
   "id": "e0fe97db",
   "metadata": {},
   "outputs": [
    {
     "name": "stdout",
     "output_type": "stream",
     "text": [
      "mean of male claim amount: 12821.5 | mean of female claim amount: 12105.6\n"
     ]
    }
   ],
   "source": [
    "male = cust_claims.loc[ cust_claims.gender == 'Male', 'claim_amount' ]\n",
    "female = cust_claims.loc[ cust_claims.gender == 'Female', 'claim_amount']\n",
    "\n",
    "# print the avg/mean of male & female claim amount \n",
    "print( 'mean of male claim amount:', round(male.mean(), 1), \n",
    "          '| mean of female claim amount:', round(female.mean(), 1))"
   ]
  },
  {
   "cell_type": "code",
   "execution_count": 42,
   "id": "99e889d0",
   "metadata": {},
   "outputs": [
    {
     "name": "stdout",
     "output_type": "stream",
     "text": [
      "Ttest_indResult(statistic=0.8848199716864555, pvalue=0.37645013430168395)\n"
     ]
    }
   ],
   "source": [
    "# Ho: u_male = u_female\n",
    "# Ha: u_male <> u_female\n",
    "\n",
    "# CI: 95%\n",
    "# p: 0.05\n",
    "  \n",
    "# rejection rule: p is low null will go, p is high null will fly\n",
    "\n",
    "# perform the test\n",
    "print( stats.ttest_ind( male, female ) )\n",
    "\n",
    "# business conclusion\n",
    "# With the give data we can not say the amount claimed by the male and female customer is different."
   ]
  },
  {
   "cell_type": "markdown",
   "id": "60fb0bfe",
   "metadata": {},
   "source": [
    "## 17. Is there any relationship between age category and segment?"
   ]
  },
  {
   "cell_type": "code",
   "execution_count": 43,
   "id": "3dc7685c",
   "metadata": {},
   "outputs": [
    {
     "name": "stdout",
     "output_type": "stream",
     "text": [
      "observed frequenct table \n",
      " Segment    Gold  Platinum  Silver\n",
      "age_group                        \n",
      "adult       287       277     262\n",
      "senior       14        17      17\n",
      "youth        71        70      70\n",
      "\n",
      "\n",
      " expected frequenct table \n",
      "        0      1      2\n",
      "0  283.0  277.0  266.0\n",
      "1   16.0   16.0   15.0\n",
      "2   72.0   71.0   68.0\n"
     ]
    },
    {
     "data": {
      "text/plain": [
       "(0.7773120847527998,\n",
       " 0.9414635570638454,\n",
       " 4,\n",
       " array([[283.2       , 277.10967742, 265.69032258],\n",
       "        [ 16.45714286,  16.10322581,  15.43963134],\n",
       "        [ 72.34285714,  70.78709677,  67.87004608]]))"
      ]
     },
     "execution_count": 43,
     "metadata": {},
     "output_type": "execute_result"
    }
   ],
   "source": [
    "# data prep for chi square test\n",
    "obs = pd.crosstab( cust_claims.age_group, cust_claims.Segment )\n",
    "print('observed frequenct table', '\\n', obs)\n",
    "\n",
    "# Ho: No relationship, independant\n",
    "# Ha: variables are related, dependant\n",
    "   \n",
    "# CI: 95%\n",
    "# p: 0.05\n",
    "  \n",
    "# rejection rule: p is low null will go, p is high null will fly\n",
    "\n",
    "# perform the test\n",
    "print('\\n\\n', 'expected frequenct table', '\\n', \n",
    "      pd.DataFrame(stats.chi2_contingency( obs )[3]).round(0))\n",
    "\n",
    "stats.chi2_contingency( obs )\n",
    "\n",
    "# business conclusion\n",
    "# With the give data we can not say that the age category and segments are related."
   ]
  },
  {
   "cell_type": "markdown",
   "id": "3f2e9646",
   "metadata": {},
   "source": [
    "## 18. The current year has shown a significant rise in claim amounts as compared to 2016-17 fiscal average which was $10,000."
   ]
  },
  {
   "cell_type": "code",
   "execution_count": 44,
   "id": "c9ecf488",
   "metadata": {},
   "outputs": [
    {
     "name": "stdout",
     "output_type": "stream",
     "text": [
      "mean of sample claim amount: 12470.5\n"
     ]
    }
   ],
   "source": [
    "# print the avg/mean of the samples\n",
    "print( 'mean of sample claim amount:', round(cust_claims.claim_amount.mean(), 1) )"
   ]
  },
  {
   "cell_type": "code",
   "execution_count": 45,
   "id": "af03ccb8",
   "metadata": {},
   "outputs": [
    {
     "name": "stdout",
     "output_type": "stream",
     "text": [
      "Ttest_1sampResult(statistic=6.108222642303586, pvalue=1.4021917187052693e-09)\n"
     ]
    }
   ],
   "source": [
    "# Ho: u <= 10000\n",
    "# Ha: u > 10000\n",
    "\n",
    "# CI: 95%\n",
    "# p: 0.05\n",
    "  \n",
    "# rejection rule: p is low null will go, p is high null will fly\n",
    "\n",
    "# perform the test\n",
    "print( stats.ttest_1samp( cust_claims.claim_amount, 10000 ) )\n",
    "\n",
    "# business conclusion\n",
    "# Average claim amount of the customers has increase from 2016-17 fiscal average which was $10,000."
   ]
  },
  {
   "cell_type": "markdown",
   "id": "f46d57bb",
   "metadata": {},
   "source": [
    "## 19. Is there any difference between age groups and insurance claims?"
   ]
  },
  {
   "cell_type": "code",
   "execution_count": 46,
   "id": "09106b8d",
   "metadata": {},
   "outputs": [
    {
     "data": {
      "text/plain": [
       "array(['adult', 'youth', 'senior'], dtype=object)"
      ]
     },
     "execution_count": 46,
     "metadata": {},
     "output_type": "execute_result"
    }
   ],
   "source": [
    "cust_claims.age_group.unique()\n"
   ]
  },
  {
   "cell_type": "code",
   "execution_count": 47,
   "id": "c67d0a94",
   "metadata": {},
   "outputs": [
    {
     "name": "stdout",
     "output_type": "stream",
     "text": [
      "mean of s1: 12628.0 | mean of s2: 11806.2  | mean of s3: 12679.6\n"
     ]
    }
   ],
   "source": [
    "# data prep\n",
    "cust_claims.age_group.unique()\n",
    "\n",
    "# select the usage variable\n",
    "var = 'claim_amount'\n",
    "\n",
    "# get the 3 samples, one for each segment of customer\n",
    "s1 = cust_claims.loc[ cust_claims.age_group == 'adult', var ]\n",
    "s2 = cust_claims.loc[ cust_claims.age_group == 'youth', var ]\n",
    "s3 = cust_claims.loc[ cust_claims.age_group == 'senior', var ]\n",
    "\n",
    "# print the avg/mean of three samples\n",
    "print( 'mean of s1:', round(s1.mean(), 1), \n",
    "          '| mean of s2:', round(s2.mean(), 1), \n",
    "              ' | mean of s3:', round(s3.mean(), 1) )"
   ]
  },
  {
   "cell_type": "code",
   "execution_count": 48,
   "id": "4a5174d3",
   "metadata": {},
   "outputs": [
    {
     "name": "stdout",
     "output_type": "stream",
     "text": [
      "F_onewayResult(statistic=0.3255402180922531, pvalue=0.7222078414884041)\n"
     ]
    }
   ],
   "source": [
    "# Ho: samples are from same population\n",
    "# Ha: samples are from different population\n",
    "   \n",
    "# CI: 95%\n",
    "# p: 0.05\n",
    "  \n",
    "# rejection rule: p is low null will go, p is high null will fly\n",
    "\n",
    "# perform the test\n",
    "print( stats.f_oneway( s1, s2, s3 ) )\n",
    "\n",
    "# Business conclusion\n",
    "# with the give data we cannot say that there is a difference between age groups and insurance claims."
   ]
  },
  {
   "cell_type": "markdown",
   "id": "1d5e0f91",
   "metadata": {},
   "source": [
    "## 20. Is there any relationship between total number of policy claims and the claimed amount?"
   ]
  },
  {
   "cell_type": "code",
   "execution_count": 49,
   "id": "71035b99",
   "metadata": {},
   "outputs": [
    {
     "data": {
      "text/html": [
       "<div>\n",
       "<style scoped>\n",
       "    .dataframe tbody tr th:only-of-type {\n",
       "        vertical-align: middle;\n",
       "    }\n",
       "\n",
       "    .dataframe tbody tr th {\n",
       "        vertical-align: top;\n",
       "    }\n",
       "\n",
       "    .dataframe thead th {\n",
       "        text-align: right;\n",
       "    }\n",
       "</style>\n",
       "<table border=\"1\" class=\"dataframe\">\n",
       "  <thead>\n",
       "    <tr style=\"text-align: right;\">\n",
       "      <th></th>\n",
       "      <th>CUST_ID</th>\n",
       "      <th>gender</th>\n",
       "      <th>DateOfBirth</th>\n",
       "      <th>State</th>\n",
       "      <th>Contact</th>\n",
       "      <th>Segment</th>\n",
       "      <th>claim_id</th>\n",
       "      <th>customer_id</th>\n",
       "      <th>incident_cause</th>\n",
       "      <th>claim_date</th>\n",
       "      <th>claim_area</th>\n",
       "      <th>police_report</th>\n",
       "      <th>claim_type</th>\n",
       "      <th>claim_amount</th>\n",
       "      <th>total_policy_claims</th>\n",
       "      <th>fraudulent</th>\n",
       "      <th>alert_flag</th>\n",
       "      <th>age</th>\n",
       "      <th>age_group</th>\n",
       "      <th>month</th>\n",
       "    </tr>\n",
       "  </thead>\n",
       "  <tbody>\n",
       "    <tr>\n",
       "      <th>0</th>\n",
       "      <td>21868593</td>\n",
       "      <td>Female</td>\n",
       "      <td>1979-01-12</td>\n",
       "      <td>VT</td>\n",
       "      <td>789-916-8172</td>\n",
       "      <td>Platinum</td>\n",
       "      <td>54004764.0</td>\n",
       "      <td>21868593.0</td>\n",
       "      <td>Driver error</td>\n",
       "      <td>2017-11-27</td>\n",
       "      <td>Auto</td>\n",
       "      <td>No</td>\n",
       "      <td>Material only</td>\n",
       "      <td>2980.0</td>\n",
       "      <td>1.0</td>\n",
       "      <td>No</td>\n",
       "      <td>0</td>\n",
       "      <td>43.0</td>\n",
       "      <td>adult</td>\n",
       "      <td>November</td>\n",
       "    </tr>\n",
       "    <tr>\n",
       "      <th>1</th>\n",
       "      <td>75740424</td>\n",
       "      <td>Female</td>\n",
       "      <td>1970-01-13</td>\n",
       "      <td>ME</td>\n",
       "      <td>265-543-1264</td>\n",
       "      <td>Silver</td>\n",
       "      <td>33985796.0</td>\n",
       "      <td>75740424.0</td>\n",
       "      <td>Crime</td>\n",
       "      <td>2018-10-03</td>\n",
       "      <td>Home</td>\n",
       "      <td>Unknown</td>\n",
       "      <td>Material only</td>\n",
       "      <td>2980.0</td>\n",
       "      <td>3.0</td>\n",
       "      <td>No</td>\n",
       "      <td>NaN</td>\n",
       "      <td>52.0</td>\n",
       "      <td>adult</td>\n",
       "      <td>October</td>\n",
       "    </tr>\n",
       "  </tbody>\n",
       "</table>\n",
       "</div>"
      ],
      "text/plain": [
       "    CUST_ID  gender DateOfBirth State       Contact   Segment    claim_id  \\\n",
       "0  21868593  Female  1979-01-12    VT  789-916-8172  Platinum  54004764.0   \n",
       "1  75740424  Female  1970-01-13    ME  265-543-1264    Silver  33985796.0   \n",
       "\n",
       "   customer_id incident_cause claim_date claim_area police_report  \\\n",
       "0   21868593.0   Driver error 2017-11-27       Auto            No   \n",
       "1   75740424.0          Crime 2018-10-03       Home       Unknown   \n",
       "\n",
       "      claim_type  claim_amount  total_policy_claims fraudulent alert_flag  \\\n",
       "0  Material only        2980.0                  1.0         No          0   \n",
       "1  Material only        2980.0                  3.0         No        NaN   \n",
       "\n",
       "    age age_group     month  \n",
       "0  43.0     adult  November  \n",
       "1  52.0     adult   October  "
      ]
     },
     "execution_count": 49,
     "metadata": {},
     "output_type": "execute_result"
    }
   ],
   "source": [
    "cust_claims.head(2)\n"
   ]
  },
  {
   "cell_type": "code",
   "execution_count": 50,
   "id": "fe943aa1",
   "metadata": {},
   "outputs": [
    {
     "name": "stdout",
     "output_type": "stream",
     "text": [
      "SpearmanrResult(correlation=0.007141709969904041, pvalue=0.8142281099101467)\n"
     ]
    }
   ],
   "source": [
    "# Ho: No corelation, independant\n",
    "# Ha: variables are related, dependant\n",
    "   \n",
    "# CI: 95%\n",
    "# p: 0.05\n",
    "  \n",
    "# rejection rule: p is low null will go, p is high null will fly\n",
    "\n",
    "# perform the test\n",
    "print( stats.spearmanr( cust_claims.claim_amount ,cust_claims.total_policy_claims ))\n",
    "\n",
    "# business conclusion\n",
    "# with the give data we cannot say that  total no. of policy claims is related to claim amount."
   ]
  },
  {
   "cell_type": "code",
   "execution_count": null,
   "id": "4029937c",
   "metadata": {},
   "outputs": [],
   "source": []
  }
 ],
 "metadata": {
  "kernelspec": {
   "display_name": "Python 3 (ipykernel)",
   "language": "python",
   "name": "python3"
  },
  "language_info": {
   "codemirror_mode": {
    "name": "ipython",
    "version": 3
   },
   "file_extension": ".py",
   "mimetype": "text/x-python",
   "name": "python",
   "nbconvert_exporter": "python",
   "pygments_lexer": "ipython3",
   "version": "3.9.12"
  }
 },
 "nbformat": 4,
 "nbformat_minor": 5
}
